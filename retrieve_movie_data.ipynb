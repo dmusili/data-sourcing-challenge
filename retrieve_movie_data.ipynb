{
 "cells": [
  {
   "cell_type": "markdown",
   "metadata": {},
   "source": [
    "### Import Required Libraries and Set Up Environment Variables"
   ]
  },
  {
   "cell_type": "code",
   "execution_count": 1,
   "metadata": {},
   "outputs": [],
   "source": [
    "                                                                                                                                                                                                                                                                                                                                                                                                                                                                                                                                                                                                                                                                                                                                                                                                                                                                                                                                                                                                                                                                                                                                                                                                                                                                                                                                                                                                                                                                                                                                                                                                                                                                                                                                                                                                                                                                                                                                                                                                                                                                                                                                                                                                                                                                                                                                                                                                                                                                                                                                                                                                                                                                                                                                                                                                                                                                                                                                                                                                                                                                                                                                                                                                                                                                                                                                                                                                                                                                                                                                                                                                                                                                                                                                                                                                                                                                                                                                                                                                                                                                                                                                                                                                                                                                                                                                                                                                                                                                                                                                                                                                                                                                                                                                                                                                                                                                                                                                                                                                                                                                                                                                                                                                                                                                                                                                                                                                                                                                                                                                                                                                                                                                                                                                                                                                                                                                                                                                                                                                                                                                                                                                                                                                                                                                                                                                                                                                                                                                                                                                                                                                                                                                                                                                                                                                                                                                                                                                                                                                                                                                                                                                                                                                                                                                                                                                                                                                                                                                                                                                                                                                                                                                                                                                                                                                                                                                                                                                                                                                                                                                                                                                                                                                                                                                                                                                                                                                                                                                                                                                                                                                                                                                                                                                                                                                                                                                                                                                                                                                                                                                                                                                                                                                                                                                                                                                                                                                                                                                                                                                                                                                                                                                                                                                                                                                                                                                                                                                                                                                                                                                                                                                                                                                                                                                                                                                                                                                                                                                                                                                                                                                                                                                                                                                                                                                                                                                                                                                                                                                                                                                                                                                                                                                                                                                                                                                                                                                                                                                                                                                                                                                                                                                                                                                                                                                                                                                                                                                                                                                                                                                                                                                                                                                                                                                                                                                                                                                                                                                                                                                                                                                                                                                                                                                                                                                                                                                                                                                                                                                                                                                                                                                                                                                                                                                                                                                                                                                                                                                                                                                                                                                                                                                                                                                                                                                                                                                                                                                                                                                                                                                                                                                                                                                                                                                                                                                                                                                                                                                                                                                                                                                                                                                                                                                                                                                                                                                                                                                                                                                                                                                                                                                                                                                                                                                                                                                                                                                                                                                                                                                                                                                                                                                                                                                                                                                                                                                                                                                                                                                                                                                                                                                                                                                                                                                                                                                                                                                                                                                                                                                                                                                                                                                                                                                                                                                                                                                                                                                                                                                                                                                                                                                                                                                                                                                                                                                                                                                                                                                                                                                                                                                                                                                                                                                                                                                                                                                                                                                                                                                                                                                                                                                                                                                                                                                                                                                                                                                                                                                                                                                                                                                                                                                                                                                                                                                                                                                                                                                                                                                                                                                                                                                                                                                                                                                                                                                                                                                                                                                                                                                                                                                                                                                                                                                                                                                                                                                                                                                                                                                                                                                                                                                                                                                                                                                                                                                                                                                                                                                                                                                                                                                                                                                                                                                                                                                                                                                                                                                                                                                                                                                                                                                                                                                                                                                                                                                                                                                                                                                                                                                                                                                                                                                                                                                                                                                                                                                                                                                                                                                                                                                                                                                                                                                                                                                                                                                                                                                                                                                                                                                                                                                                                                                                                                                                                                                                                                                                                                                                                                                                                                                                                                                                                                                                                                                                                                                                                                                                                                                                                                                                                                                                                                                                                                                                                                                                                                                                                                                                                                                                                                                                                                                                                                                                                                                                                                                                                                                                                                                                                                                                                                                                                                                                                                                                                                                                                                                                                                                                                                                                                                                                                                                                                                                                                                                                                                                                                                                                                                                                                                                                                                                                                                                                                                                                                                                                                                                                                                                                                                                                                                                                                                                                                                                                                                                                                                                                                                                                                                                                                                                                                                                                                                                                                                                                                                                                                                                                                                                                                                                                                                                                                                                                                                                                                                                                                                                                                                                                                                                                                                                                                                                                                                                                                                                                                                                                                                                                                                                                                                                                                                                                                                                                                                                                                                                                                                                                                                                                                                                                                                                                                                                                                                                                                                                                                                                                                                                                                                                                                                                                                                                                                                                                                                                                                                                                                                                                                                                                                                                                                                                                                                                                                                                                                                                                                                                                                                                                                                                                                                                                                                                                                                                                                                                                                                                                                                                                                                                                                                                                                                                                                                                                                                                                                                                                                                                                                                                                                                                                                                                                                                                                                                                                                                                                                                                                                                                                                                                                                                                                                                                                                                                                                                                                                                                                                                                                                                                                                                                                                                                                                                                                                                                                                                                                                                                                                                                                                                                                                                                                                                                                                                                                                                                                                                                                                                                                                                                                                                                                                                                                                                                                                                                                                                                                                                                                                                                                                                                                                                                                                                                                                                                                                                                                                                                                                                                                                                                                                                                                                                                                                                                                                                                                                                                                                                                                                                                                                                                                                                                                                                                                                                                                                                                                                                                                                                                                                                                                                                                                                                                                                                                                                                                                                                                                                                                                                                                                                                                                                                                                                                                                                                                                                                                                                                                                                                                                                                                                                                                                                                                                                                                                                                                                                                                                                                                                                                                                                                                                                                                                                                                                                                                                                                                                                                                                                                                                                                                                                                                                                                                                                                                                                                                                                                                                                                                                                                                                                                                                                                                                                                                                                                                                                                                                                                                                                                                                                                                                                                                                                                                                                                                                                                                                                                                                                                                                                                                                                                                                                                                                                                                                                                                                                                                                                                                                                                                                                                                                                                                                                                                                                                                                                                                                                                                                                                                                                                                                                                                                                                                                                                                                                                                                                                                                                                                                                                                                                                                                                                                                                                                                                                                                                                                                                                                                                                                                                                                                                                                                                                                                                                                                                                                                                                                                                                                                                                                                                                                                                                                                                                                                                                                                                                                                                                                                                                                                                                                 # Dependenciesimport requests\n",
    "import requests\n",
    "import time\n",
    "from dotenv import load_dotenv\n",
    "import os\n",
    "import pandas as pd\n",
    "import json\n"
   ]
  },
  {
   "cell_type": "code",
   "execution_count": 2,
   "metadata": {},
   "outputs": [],
   "source": [
    "# Set environment variables from the .env in the local environment\n",
    "load_dotenv()\n",
    "\n",
    "nyt_api_key = os.getenv(\"NYT_API_KEY\")\n",
    "tmdb_api_key = os.getenv(\"TMDB_API_KEY\")\n"
   ]
  },
  {
   "cell_type": "markdown",
   "metadata": {},
   "source": [
    "### Access the New York Times API"
   ]
  },
  {
   "cell_type": "code",
   "execution_count": 3,
   "metadata": {
    "scrolled": true
   },
   "outputs": [],
   "source": [
    "# Set the base URL\n",
    "url = \"https://api.nytimes.com/svc/search/v2/articlesearch.json?\"\n",
    "\n",
    "# Filter for movie reviews with \"love\" in the headline\n",
    "# section_name should be \"Movies\"\n",
    "# type_of_material should be \"Review\"\n",
    "filter_query = 'section_name:\"Movies\" AND type_of_material:\"Review\" AND headline:\"love\"'\n",
    "\n",
    "# Use a sort filter, sort by newest\n",
    "sort = \"newest\"\n",
    "\n",
    "# Select the following fields to return:\n",
    "# headline, web_url, snippet, source, keywords, pub_date, byline, word_count\n",
    "field_list = \"headline,web_url,snippet,source,keywords,pub_date,byline,word_count\"\n",
    "\n",
    "# Search for reviews published between a begin and end date\n",
    "begin_date = \"20130101\"\n",
    "end_date = \"20230531\"\n",
    "\n",
    "# Build URL\n",
    "query_url = f\"https://api.nytimes.com/svc/search/v2/articlesearch.json?\" \\\n",
    "            f\"&fl={field_list}\" \\\n",
    "            f\"&api-key={nyt_api_key}\" \\\n",
    "            f\"&begin_date={begin_date}\" \\\n",
    "            f\"&end_date={end_date}\" \\\n",
    "            f\"&fq={filter_query}\" \\\n",
    "            f\"&sort={sort}\" \n"
   ]
  },
  {
   "cell_type": "code",
   "execution_count": null,
   "metadata": {},
   "outputs": [
    {
     "name": "stdout",
     "output_type": "stream",
     "text": [
      "Checked page 0\n",
      "Checked page 1\n",
      "Checked page 2\n"
     ]
    }
   ],
   "source": [
    "# Create an empty list to store the reviews\n",
    "reviews_list = []\n",
    "\n",
    "# loop through pages 0-19\n",
    "for page in range(0, 20):\n",
    "    # create query with a page number\n",
    "    # API results show 10 articles at a time\n",
    "    \n",
    "    query_url_with_page= query_url + f\"&page={page}\"\n",
    "   \n",
    "    # Make a \"GET\" request and retrieve the JSON\n",
    "    reviews = requests.get(query_url_with_page)\n",
    "    reviews_data = reviews.json()\n",
    "\n",
    "    # Add a twelve second interval between queries to stay within API query limits\n",
    "    time.sleep(12)\n",
    "    \n",
    "    #check the return status code\n",
    "    if reviews.status_code not in range(200, 299):\n",
    "        break\n",
    "    \n",
    "    #Try and save the reviews to the reviews_list\n",
    "    try:\n",
    "        \n",
    "        response_doc_elements = reviews_data['response']['docs']\n",
    "     \n",
    "        # loop through the reviews[\"response\"][\"docs\"] and append each review to the list\n",
    "        for doc_element in response_doc_elements:\n",
    "            reviews_list.append(doc_element)\n",
    "        \n",
    "        # Print the page that was just retrieved\n",
    "        print('Checked page ' + str(page))   \n",
    "    except:\n",
    "        # Print the page number that had no results then break from the loop\n",
    "        print('Checked page' + str(page))\n",
    "        break\n",
    "       "
   ]
  },
  {
   "cell_type": "code",
   "execution_count": null,
   "metadata": {},
   "outputs": [],
   "source": [
    "# Preview the first 5 results in JSON format\n",
    "# Use json.dumps with argument indent=4 to format data\n",
    "\n",
    "print(json.dumps(reviews_list, indent = 4))"
   ]
  },
  {
   "cell_type": "code",
   "execution_count": null,
   "metadata": {},
   "outputs": [],
   "source": [
    "# Convert reviews_list to a Pandas DataFrame using json_normalize()\n",
    "review_list_df=pd.json_normalize(reviews_list)\n",
    "review_list_df"
   ]
  },
  {
   "cell_type": "code",
   "execution_count": null,
   "metadata": {},
   "outputs": [],
   "source": [
    "# Extract the title from the \"headline.main\" column and\n",
    "# save it to a new column \"title\"\n",
    "# Title is between unicode characters \\u2018 and \\u2019. \n",
    "# End string should include \" Review\" to avoid cutting title early\n",
    "\n",
    "review_list_df['title'] = review_list_df['headline.main'].apply(lambda st: st[st.find(\"\\u2018\")+1:st.find(\"\\u2019 Review\")])\n",
    "\n",
    "review_list_df"
   ]
  },
  {
   "cell_type": "code",
   "execution_count": null,
   "metadata": {},
   "outputs": [],
   "source": [
    "# Extract 'name' and 'value' from items in \"keywords\" column\n",
    "def extract_keywords(keyword_list):\n",
    "    extracted_keywords = \"\"\n",
    "    for item in keyword_list:\n",
    "        # Extract 'name' and 'value'\n",
    "        keyword = f\"{item['name']}: {item['value']};\" \n",
    "        # Append the keyword item to the extracted_keywords list\n",
    "        extracted_keywords += keyword\n",
    "    return extracted_keywords\n",
    "\n",
    "# Fix the \"keywords\" column by converting cells from a list to a string\n",
    "review_list_df['keywords']=review_list_df['keywords'].apply(extract_keywords)\n",
    "review_list_df"
   ]
  },
  {
   "cell_type": "code",
   "execution_count": null,
   "metadata": {
    "scrolled": true
   },
   "outputs": [],
   "source": [
    "# Create a list from the \"title\" column using to_list()\n",
    "# These titles will be used in the query for The Movie Database\n",
    "title_list=review_list_df['title'].tolist()\n",
    "title_list"
   ]
  },
  {
   "cell_type": "markdown",
   "metadata": {},
   "source": [
    "### Access The Movie Database API"
   ]
  },
  {
   "cell_type": "code",
   "execution_count": null,
   "metadata": {},
   "outputs": [],
   "source": [
    "# Prepare The Movie Database query\n",
    "\n",
    "url = \"https://api.themoviedb.org/3/search/movie?query=\" \n",
    "\n",
    "tmdb_key_string = \"&api_key=\" + tmdb_api_key\n"
   ]
  },
  {
   "cell_type": "code",
   "execution_count": null,
   "metadata": {},
   "outputs": [],
   "source": [
    "# Create an empty list to store the results\n",
    "tmdb_movies_list = []\n",
    "\n",
    "# Create a request counter to sleep the requests after a multiple\n",
    "# of 50 requests\n",
    "request_counter=1\n",
    "\n",
    "# Loop through the titles\n",
    "for movie_title in title_list:\n",
    "   \n",
    "  # Add 1 to the request counter\n",
    "    request_counter=request_counter+1 \n",
    "    \n",
    "   # Check if we need to sleep before making a request\n",
    "    if (request_counter % 50 == 0):\n",
    "        print('Application is sleeping')\n",
    "        time.sleep(1)\n",
    "      \n",
    "    # Include a try clause to search for the full movie details.\n",
    "    # Use the except clause to print out a statement if a movie\n",
    "    # is not found.\n",
    "    \n",
    "    try:  \n",
    "     # Perform a \"GET\" request for The Movie Database\n",
    "        movie_request = requests.get(url + movie_title + tmdb_key_string)\n",
    "        movie_data = movie_request.json()\n",
    "        movie_results = movie_data['results']\n",
    "    \n",
    "        movie_count = 0\n",
    "        \n",
    "        for movie_item in movie_results:\n",
    "            genres=[]\n",
    "            spoken_languages=''\n",
    "            production_countries=[]\n",
    "            movie_dic={}\n",
    "            movie_count=movie_count + 1 \n",
    "        \n",
    "           # Get movie id\n",
    "            movieid = movie_item.get('id')\n",
    "       \n",
    "           # Make a request for a the full movie details\n",
    "            movie_details_url='https://api.themoviedb.org/3/movie/' + str(movieid) + '?api_key=' + tmdb_api_key\n",
    "\n",
    "           # Execute \"GET\" request with url\n",
    "            movie_details_request = requests.get(movie_details_url)\n",
    "            movie_details_data = movie_details_request.json()\n",
    "            movie_original_title = movie_details_data['original_title']\n",
    "            \n",
    "       \n",
    "           # Extract the genre names into a list\n",
    "            for movie_genre in movie_details_data['genres']:\n",
    "                genres.append(movie_genre['name'])\n",
    "\n",
    "           # Extract the spoken_languages' English name into a list\n",
    "            for movie_langauges in movie_details_data['spoken_languages']:\n",
    "                spoken_languages=movie_langauges.get('english_name')\n",
    "\n",
    "           # Extract the production_countries' name into a list\n",
    "            for production_country in movie_details_data['production_countries']:\n",
    "                production_countries.append(production_country['name'])\n",
    "\n",
    "        \n",
    "           # Add the relevant data to a dictionary and\n",
    "           # append it to the tmdb_movies_list list\n",
    "            movie_dic.update({'title':movie_title})\n",
    "            movie_dic.update({'original_title':movie_original_title})\n",
    "            movie_dic.update({'budget':movie_details_data['budget']})\n",
    "            movie_dic.update({'original_language':movie_details_data['original_language']})\n",
    "            movie_dic.update({'homepage':movie_details_data['homepage']}) \n",
    "            movie_dic.update({'overview':movie_details_data['overview']})\n",
    "            movie_dic.update({'popularity':movie_details_data['popularity']})\n",
    "            movie_dic.update({'runtime':movie_details_data['runtime']})\n",
    "            movie_dic.update({'revenue':movie_details_data['revenue']})\n",
    "            movie_dic.update({'release_date':movie_details_data['release_date']})\n",
    "            movie_dic.update({'vote_average':movie_details_data['vote_average']})\n",
    "            movie_dic.update({'vote_count':movie_details_data['vote_count']})\n",
    "            movie_dic.update({'genres':genres})\n",
    "            movie_dic.update({'spoken_languages':spoken_languages})\n",
    "            movie_dic.update({'production_countries':production_countries})\n",
    "       \n",
    "            tmdb_movies_list.append(movie_dic)\n",
    "        \n",
    "          # Print out the title that was found\n",
    "            print(\"Found \" + movie_title)\n",
    "        \n",
    "           #Breaks loop after collecting moview id from first result.\n",
    "            if movie_count > 0:\n",
    "                break\n",
    "    except:\n",
    "  #  except Exception as e:\n",
    "     print(movie_title + \" not found\")\n",
    "       "
   ]
  },
  {
   "cell_type": "code",
   "execution_count": null,
   "metadata": {},
   "outputs": [],
   "source": [
    "# Preview the first 5 results in JSON format\n",
    "# Use json.dumps with argument indent=4 to format data\n",
    "\n",
    "print(json.dumps(tmdb_movies_list, indent = 4))"
   ]
  },
  {
   "cell_type": "code",
   "execution_count": null,
   "metadata": {},
   "outputs": [],
   "source": [
    "# Convert the results to a DataFrame\n",
    "tmdb_df=pd.json_normalize(tmdb_movies_list)\n",
    "tmdb_df"
   ]
  },
  {
   "cell_type": "markdown",
   "metadata": {},
   "source": [
    "### Merge and Clean the Data for Export"
   ]
  },
  {
   "cell_type": "code",
   "execution_count": null,
   "metadata": {
    "scrolled": true
   },
   "outputs": [],
   "source": [
    "# Merge the New York Times reviews and TMDB DataFrames on title\n",
    "movies_merged_df = pd.merge(tmdb_df, review_list_df, on=\"title\")\n",
    "\n",
    "movies_merged_df"
   ]
  },
  {
   "cell_type": "code",
   "execution_count": null,
   "metadata": {},
   "outputs": [],
   "source": [
    "# Remove list brackets and quotation marks on the columns containing lists\n",
    "# Create a list of the columns that need fixing\n",
    "columns_to_fix=['genres','spoken_languages','production_countries']\n",
    "\n",
    "# Create a list of characters to remove\n",
    "replace_list_values = [\"[\", \"]\", \"'\"]\n",
    "\n",
    "\n",
    "# Loop through the list of columns to fix\n",
    "for i, row in movies_merged_df.iterrows():\n",
    "    genres_values=''\n",
    "    production_countries_values=''\n",
    "    byline_person_values=''\n",
    "    \n",
    "    for column in columns_to_fix:\n",
    "        if column=='genre':\n",
    "            genres_values=movies_merged_df.at[i,column]\n",
    "        if column=='production_countries':\n",
    "            production_countries_values=movies_merged_df.at[i,column]\n",
    "        if column=='byline.person':\n",
    "            byline_person_values=movies_merged_df.at[i,column]\n",
    "            \n",
    "    # Convert the column to type 'str'\n",
    "    # Loop through characters to remove\n",
    "    for replace_value in replace_list_values:\n",
    "        genres_values = str(genres_values).replace(replace_value,'')\n",
    "    \n",
    "    movies_merged_df.at[i,'genres'] = genres_values\n",
    "    \n",
    "    for replace_value in replace_list_values:\n",
    "        production_countries_values = str(production_countries_values).replace(replace_value,'')\n",
    "      \n",
    "    movies_merged_df.at[i,'production_countries'] = production_countries_values\n",
    "    \n",
    "    for replace_value in replace_list_values:\n",
    "        byline_person_values = str(byline_person_values).replace(replace_value,'')\n",
    "      \n",
    "    movies_merged_df.at[i,'byline.person'] = byline_person_values\n",
    "\n",
    "# Display the fixed DataFrame\n",
    "movies_merged_df"
   ]
  },
  {
   "cell_type": "code",
   "execution_count": null,
   "metadata": {
    "scrolled": true
   },
   "outputs": [],
   "source": [
    "# Drop \"byline.person\" column\n",
    "movies_merged_dropped_df=movies_merged_df.drop(columns=['byline.person'])\n",
    "\n",
    "movies_merged_dropped_df"
   ]
  },
  {
   "cell_type": "code",
   "execution_count": null,
   "metadata": {},
   "outputs": [],
   "source": [
    "# Delete duplicate rows and reset index\n",
    "dup_dropped_merged_df= movies_merged_dropped_df.drop_duplicates(\"title\")\n",
    "\n",
    "dup_dropped_merged_df=dup_dropped_merged_df.reset_index(drop=True)\n",
    "\n",
    "dup_dropped_merged_df.head()"
   ]
  },
  {
   "cell_type": "code",
   "execution_count": null,
   "metadata": {},
   "outputs": [],
   "source": [
    "# Export data to CSV without the index\n",
    "\n",
    "dup_dropped_merged_df.to_csv('output.csv', index=False)"
   ]
  },
  {
   "cell_type": "code",
   "execution_count": null,
   "metadata": {},
   "outputs": [],
   "source": []
  }
 ],
 "metadata": {
  "kernelspec": {
   "display_name": "Python 3 (ipykernel)",
   "language": "python",
   "name": "python3"
  },
  "language_info": {
   "codemirror_mode": {
    "name": "ipython",
    "version": 3
   },
   "file_extension": ".py",
   "mimetype": "text/x-python",
   "name": "python",
   "nbconvert_exporter": "python",
   "pygments_lexer": "ipython3",
   "version": "3.11.5"
  },
  "varInspector": {
   "cols": {
    "lenName": 16,
    "lenType": 16,
    "lenVar": 40
   },
   "kernels_config": {
    "python": {
     "delete_cmd_postfix": "",
     "delete_cmd_prefix": "del ",
     "library": "var_list.py",
     "varRefreshCmd": "print(var_dic_list())"
    },
    "r": {
     "delete_cmd_postfix": ") ",
     "delete_cmd_prefix": "rm(",
     "library": "var_list.r",
     "varRefreshCmd": "cat(var_dic_list()) "
    }
   },
   "types_to_exclude": [
    "module",
    "function",
    "builtin_function_or_method",
    "instance",
    "_Feature"
   ],
   "window_display": false
  }
 },
 "nbformat": 4,
 "nbformat_minor": 2
}
